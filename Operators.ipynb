{
 "cells": [
  {
   "cell_type": "code",
   "execution_count": 22,
   "id": "db97aae4",
   "metadata": {},
   "outputs": [
    {
     "name": "stdout",
     "output_type": "stream",
     "text": [
      "Enter first number: 10\n",
      "Enter second number: 5\n",
      "The sum of 10 and 5 is 15.0\n",
      "The subtraction of 10 and 5 is 5.0\n",
      "The multiplication of 10 and 5 is 50.0\n",
      "The division of 10 and 5 is 2.0\n"
     ]
    }
   ],
   "source": [
    "#Demonstrate the use of Arithmetic Operators\n",
    " \n",
    "num1 = input('Enter first number: ')  \n",
    "num2 = input('Enter second number: ')\n",
    "sum = float(num1) + float(num2)  \n",
    "min = float(num1) - float(num2)  \n",
    "mul = float(num1) * float(num2)   \n",
    "div = float(num1) / float(num2)  \n",
    "# Display the addition \n",
    "print('The sum of {0} and {1} is {2}'.format(num1, num2, sum))  \n",
    "# Display the subtraction  \n",
    "print('The subtraction of {0} and {1} is {2}'.format(num1, num2, min))  \n",
    "# Display the multiplication  \n",
    "print('The multiplication of {0} and {1} is {2}'.format(num1, num2, mul))  \n",
    "# Display the division  \n",
    "print('The division of {0} and {1} is {2}'.format(num1, num2, div))  \n",
    "\n",
    "\n",
    "\n",
    "\n"
   ]
  },
  {
   "cell_type": "code",
   "execution_count": 20,
   "id": "eb3b8082",
   "metadata": {},
   "outputs": [
    {
     "name": "stdout",
     "output_type": "stream",
     "text": [
      "Enter first number:10\n",
      "Enter second number20\n",
      "False\n",
      "True\n",
      "True\n",
      "True\n",
      "False\n",
      "False\n"
     ]
    }
   ],
   "source": [
    "#Demonstrate the use of Relational(Comparison)Operator\n",
    "a=int(input(\"Enter first number:\"))\n",
    "b=int(input(\"Enter second number\")) \n",
    "print(a == b)  \n",
    "print(a != b)  \n",
    "print(a <=b)\n",
    "print(a <= b)  \n",
    "print(a > b)   \n",
    "print(a >= b)  "
   ]
  },
  {
   "cell_type": "code",
   "execution_count": 25,
   "id": "fa90de4d",
   "metadata": {},
   "outputs": [
    {
     "name": "stdout",
     "output_type": "stream",
     "text": [
      "Enter first number: 8\n",
      "Enter second number 4\n",
      "Value of c after assignment the value of a is:  8\n",
      "Result of Addition is: 12\n",
      "Result of Substraction is: 8\n",
      "Result of Multiplication is: 32\n",
      "Result of Division is: 8.0\n",
      "Result of Exponential is: 4096.0\n",
      "Result of Floor Division is: 1024.0\n",
      "Remainder is: 0.0\n"
     ]
    }
   ],
   "source": [
    "#Demonstrate the use of assignment Operators\n",
    "a=int(input(\"Enter first number: \"))\n",
    "b=int(input(\"Enter second number \")) \n",
    "c=a\n",
    "print(\"Value of c after assignment the value of a is: \" , c)\n",
    "a+=b\n",
    "print(\"Result of Addition is:\" ,a)\n",
    "a-=b\n",
    "print(\"Result of Substraction is:\" ,a)\n",
    "a*=b\n",
    "print(\"Result of Multiplication is:\" ,a)\n",
    "a/=b\n",
    "print(\"Result of Division is:\" ,a)\n",
    "a**=b\n",
    "print(\"Result of Exponential is:\" ,a)\n",
    "a//=b\n",
    "print(\"Result of Floor Division is:\" ,a)\n",
    "a%=b\n",
    "print(\"Remainder is:\" ,a)\n"
   ]
  },
  {
   "cell_type": "code",
   "execution_count": 33,
   "id": "ca811166",
   "metadata": {},
   "outputs": [
    {
     "name": "stdout",
     "output_type": "stream",
     "text": [
      "Enter age: 25\n",
      "Young Man/Women\n",
      " Please forward Your Resume \n"
     ]
    }
   ],
   "source": [
    "#Demonstrate the use of Logical Operators\n",
    "age =int(input(\"Enter age: \"))\n",
    "# AND Example\n",
    "if age < 33 and age > 20:\n",
    "    print (\"Young Man/Women\")\n",
    "else:\n",
    "    print(\" Not Eligible \")\n",
    "\n",
    "# OR Example\n",
    "if age < 18 or age > 60:\n",
    "        print(\" Not Eligible to Work \")\n",
    "else:\n",
    "        print(\" Please forward Your Resume \")\n"
   ]
  },
  {
   "cell_type": "code",
   "execution_count": 35,
   "id": "c1ecf0ea",
   "metadata": {},
   "outputs": [
    {
     "name": "stdout",
     "output_type": "stream",
     "text": [
      "Enter a number: 10\n",
      "Enter a number: 79\n",
      "x is  present in given list\n",
      "y is NOT present in given list\n"
     ]
    }
   ],
   "source": [
    "#Demonstrate the use of Membership Operators\n",
    "x = int(input(\"Enter a number: \"))\n",
    "y = int(input(\"Enter a number: \"))\n",
    "list = [10, 20, 30, 40, 50 ];\n",
    " \n",
    "if ( x not in list ):\n",
    "   print(\"x is NOT present in given list\")\n",
    "else:\n",
    "   print(\"x is  present in given list\")\n",
    " \n",
    "if ( y in list ):\n",
    "   print(\"y is present in given list\")\n",
    "else:\n",
    "   print(\"y is NOT present in given list\")\n"
   ]
  },
  {
   "cell_type": "code",
   "execution_count": 37,
   "id": "059d5ef0",
   "metadata": {},
   "outputs": [
    {
     "name": "stdout",
     "output_type": "stream",
     "text": [
      "x is y\n",
      "x is not z\n",
      "y is not z\n"
     ]
    }
   ],
   "source": [
    "#Demonstrate the use of Identity Operators\n",
    "x = '101'\n",
    "y = '101'\n",
    "z = '102'\n",
    "if (x is y):\n",
    "  print ('x is y')\n",
    "else:\n",
    "  print ('x is not y')\n",
    "if (x is z):\n",
    "  print('x is z')\n",
    "else:\n",
    "  print ('x is not z')\n",
    "if (y is z):\n",
    "  print('y is z')\n",
    "else:\n",
    "  print ('y is not z')\n"
   ]
  },
  {
   "cell_type": "code",
   "execution_count": 2,
   "id": "f26ff41e",
   "metadata": {},
   "outputs": [
    {
     "name": "stdout",
     "output_type": "stream",
     "text": [
      "Line 1 - Value of c is  12\n",
      "Line 2 - Value of c is  61\n",
      "Line 3 - Value of c is  49\n",
      "Line 4 - Value of c is  -61\n",
      "Line 5 - Value of c is  240\n",
      "Line 6 - Value of c is  15\n"
     ]
    }
   ],
   "source": [
    "#Demonstrate the use of Bitwise Operators\n",
    "a = 60            \n",
    "b = 13         \n",
    "c = 0\n",
    "\n",
    "c = a & b;        \n",
    "print(\"Line 1 - Value of c is \", c)\n",
    "\n",
    "c = a | b;        \n",
    "print (\"Line 2 - Value of c is \", c)\n",
    "\n",
    "c = a ^ b;        \n",
    "print (\"Line 3 - Value of c is \", c)\n",
    "\n",
    "c = ~a;           \n",
    "print (\"Line 4 - Value of c is \", c)\n",
    "\n",
    "c = a << 2;       \n",
    "print (\"Line 5 - Value of c is \", c)\n",
    "\n",
    "c = a >> 2;       \n",
    "print (\"Line 6 - Value of c is \", c)\n"
   ]
  },
  {
   "cell_type": "code",
   "execution_count": null,
   "id": "c4edb595",
   "metadata": {},
   "outputs": [],
   "source": []
  }
 ],
 "metadata": {
  "kernelspec": {
   "display_name": "Python 3 (ipykernel)",
   "language": "python",
   "name": "python3"
  },
  "language_info": {
   "codemirror_mode": {
    "name": "ipython",
    "version": 3
   },
   "file_extension": ".py",
   "mimetype": "text/x-python",
   "name": "python",
   "nbconvert_exporter": "python",
   "pygments_lexer": "ipython3",
   "version": "3.9.7"
  }
 },
 "nbformat": 4,
 "nbformat_minor": 5
}
